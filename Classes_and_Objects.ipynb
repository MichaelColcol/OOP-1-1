{
  "nbformat": 4,
  "nbformat_minor": 0,
  "metadata": {
    "colab": {
      "name": "Classes and Objects.ipynb",
      "provenance": [],
      "authorship_tag": "ABX9TyN4zcWfq50GHvNkU+zAMMXq",
      "include_colab_link": true
    },
    "kernelspec": {
      "name": "python3",
      "display_name": "Python 3"
    },
    "language_info": {
      "name": "python"
    }
  },
  "cells": [
    {
      "cell_type": "markdown",
      "metadata": {
        "id": "view-in-github",
        "colab_type": "text"
      },
      "source": [
        "<a href=\"https://colab.research.google.com/github/MichaelColcol/OOP-1-1/blob/main/Classes_and_Objects.ipynb\" target=\"_parent\"><img src=\"https://colab.research.google.com/assets/colab-badge.svg\" alt=\"Open In Colab\"/></a>"
      ]
    },
    {
      "cell_type": "markdown",
      "source": [
        "###1. Define an Area() method of the class that calculates the circle’s area."
      ],
      "metadata": {
        "id": "d4NMnrd88Lxl"
      }
    },
    {
      "cell_type": "code",
      "source": [
        "class Area:\n",
        "  def __init__(self,radius):\n",
        "    self.radius = radius\n",
        "  \n",
        "  def Area(self):\n",
        "    return (3.14*(self.radius*self.radius))\n",
        "\n",
        "input_radius = float(input(\"radius of Circle:\"))\n",
        "area1 = Area(input_radius)\n",
        "print(\"Area of Circle : \",area1.Area())\n",
        "\n",
        "Area= 3.14*(r**2)\n",
        "Perimeter = 2*3.14*r\n",
        "print(f\"Perimeter of Circle :{Perimeter}\")"
      ],
      "metadata": {
        "colab": {
          "base_uri": "https://localhost:8080/"
        },
        "id": "L02gTgztBvJ2",
        "outputId": "bfbf054e-e60b-4c07-f8bb-ce7f3591d2b4"
      },
      "execution_count": 120,
      "outputs": [
        {
          "output_type": "stream",
          "name": "stdout",
          "text": [
            "radius of Circle:5\n",
            "Area of Circle :  78.5\n",
            "Perimeter of Circle :31.400000000000002\n"
          ]
        }
      ]
    },
    {
      "cell_type": "markdown",
      "source": [
        "###2. Define a Perimeter() method of the class which allows you to calculate the perimeter of the circle\n"
      ],
      "metadata": {
        "id": "wFmiqMW5Dpfm"
      }
    },
    {
      "cell_type": "code",
      "source": [
        "class Perimeter:\n",
        "  def __init__(self,radius):\n",
        "    self.radius = radius\n",
        "  \n",
        "  def Perimeter(self):\n",
        "    return (3.14*2*self.radius)\n",
        "\n",
        "Area= 3.14*(r**2)\n",
        "Perimeter = 2*3.14*r\n",
        "print(f\"Area of Circle :{Area}\")\n",
        "print(f\"Perimeter of Circle :{Perimeter}\")\n",
        "\n",
        "\n",
        "  "
      ],
      "metadata": {
        "colab": {
          "base_uri": "https://localhost:8080/"
        },
        "id": "YZNy5-FAIe3e",
        "outputId": "9119704e-ac82-41da-9b87-9a54cd7855a3"
      },
      "execution_count": 119,
      "outputs": [
        {
          "output_type": "stream",
          "name": "stdout",
          "text": [
            "Area of Circle :78.5\n",
            "Perimeter of Circle :31.400000000000002\n"
          ]
        }
      ]
    }
  ]
}