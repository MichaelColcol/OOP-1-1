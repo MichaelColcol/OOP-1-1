{
  "nbformat": 4,
  "nbformat_minor": 0,
  "metadata": {
    "colab": {
      "name": "OOP_Concepts_2.ipynb",
      "provenance": [],
      "authorship_tag": "ABX9TyMdJAcMfg01ZRrNOqhCQm/6",
      "include_colab_link": true
    },
    "kernelspec": {
      "name": "python3",
      "display_name": "Python 3"
    },
    "language_info": {
      "name": "python"
    }
  },
  "cells": [
    {
      "cell_type": "markdown",
      "metadata": {
        "id": "view-in-github",
        "colab_type": "text"
      },
      "source": [
        "<a href=\"https://colab.research.google.com/github/MichaelColcol/OOP-1-1/blob/main/OOP_Concepts_2.ipynb\" target=\"_parent\"><img src=\"https://colab.research.google.com/assets/colab-badge.svg\" alt=\"Open In Colab\"/></a>"
      ]
    },
    {
      "cell_type": "markdown",
      "source": [
        "##Application 1\n",
        "\n",
        "Create a Python program that displays the name of three students (Student 1, Student 2, and Student 3) and their term grades\n",
        "Create a class name Person and attributes - std1,std2,std3,pre,mid,fin\n",
        "Compute the average of each term grade using Grade() method\n",
        "Information about student s grades must be hidden from others"
      ],
      "metadata": {
        "id": "vQE798S8Qmqw"
      }
    },
    {
      "cell_type": "code",
      "source": [
        "class Person:\n",
        "  def __init__(self,firstname,lastname):\n",
        "    self.__firstname = firstname\n",
        "    self.__lastname = lastname\n",
        "\n",
        "  def Score(self):\n",
        "    print(self.__firstname,self.__lastname)\n",
        "\n",
        "  def Grade(self):\n",
        "    return(self.__a + self.__b + self.__c)\n",
        "\n",
        "\n",
        "student1 = Student(\"Michael\",\"Colcol\") \n",
        "student1.fullname()\n",
        "\n",
        "\n",
        "a = int(input(\"Prelims:\"))\n",
        "b = int(input(\"Midterm:\"))\n",
        "c = int(input(\"Finals:\"))\n",
        "input_average = (a + b + c)/3\n",
        "print(\"Average\",input_average)\n",
        " \n",
        "student2 =Student(\"Abish\",\"Famindalan\") \n",
        "student2.fullname()\n",
        "\n",
        "\n",
        "a = int(input(\"Prelims:\"))\n",
        "b = int(input(\"Midterm:\"))\n",
        "c = int(input(\"Finals:\"))\n",
        "input_average = (a + b + c)/3\n",
        "print(\"Average\",input_average)\n",
        " \n",
        "\n",
        "student3 =Student(\"Jennie\",\"Kim\") \n",
        "student3.fullname()\n",
        "\n",
        "a = int(input(\"Prelims:\"))\n",
        "b = int(input(\"Midterm:\"))\n",
        "c = int(input(\"Finals:\"))\n",
        "input_average = (a + b + c)/3\n",
        "print(\"Average\",input_average)\n",
        "\n"
      ],
      "metadata": {
        "colab": {
          "base_uri": "https://localhost:8080/"
        },
        "id": "UlMYdqQ_TcWv",
        "outputId": "e1c8283c-e3ea-446d-d512-d1bb18799ca6"
      },
      "execution_count": 9,
      "outputs": [
        {
          "output_type": "stream",
          "name": "stdout",
          "text": [
            "Michael Colcol\n",
            "Prelims:99\n",
            "Midterm:99\n",
            "Finals:100\n",
            "Average 99.33333333333333\n",
            "Abish Famindalan\n",
            "Prelims:100\n",
            "Midterm:100\n",
            "Finals:100\n",
            "Average 100.0\n",
            "Jennie Kim\n",
            "Prelims:96\n",
            "Midterm:98\n",
            "Finals:99\n",
            "Average 97.66666666666667\n"
          ]
        }
      ]
    }
  ]
}