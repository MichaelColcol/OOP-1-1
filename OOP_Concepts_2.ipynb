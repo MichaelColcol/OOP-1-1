{
  "nbformat": 4,
  "nbformat_minor": 0,
  "metadata": {
    "colab": {
      "name": "OOP_Concepts_2.ipynb",
      "provenance": [],
      "authorship_tag": "ABX9TyN2uj2gTNyFv+qIlX/X7/n2",
      "include_colab_link": true
    },
    "kernelspec": {
      "name": "python3",
      "display_name": "Python 3"
    },
    "language_info": {
      "name": "python"
    }
  },
  "cells": [
    {
      "cell_type": "markdown",
      "metadata": {
        "id": "view-in-github",
        "colab_type": "text"
      },
      "source": [
        "<a href=\"https://colab.research.google.com/github/MichaelColcol/OOP-1-1/blob/main/OOP_Concepts_2.ipynb\" target=\"_parent\"><img src=\"https://colab.research.google.com/assets/colab-badge.svg\" alt=\"Open In Colab\"/></a>"
      ]
    },
    {
      "cell_type": "markdown",
      "source": [
        "##Application 1\n",
        "\n",
        "Create a Python program that displays the name of three students (Student 1, Student 2, and Student 3) and their term grades\n",
        "Create a class name Person and attributes - std1,std2,std3,pre,mid,fin\n",
        "Compute the average of each term grade using Grade() method\n",
        "Information about student s grades must be hidden from others"
      ],
      "metadata": {
        "id": "vQE798S8Qmqw"
      }
    },
    {
      "cell_type": "code",
      "source": [
        "class Student:\n",
        "  def __init__(self,firstname,lastname):\n",
        "    self.firstname = firstname\n",
        "    self.lastname = lastname\n",
        "\n",
        "  def fullname(self):\n",
        "    print(self.firstname,self.lastname)\n",
        "\n",
        "student1 = Student(\"Michael\",\"Colcol\")\n",
        "student1.fullname()\n",
        "\n",
        "class Student(Person):\n",
        "  pass\n",
        "\n",
        "input_fullname = float(input(\"Grade:\"))\n",
        "\n",
        "student2 = Student(\"Abish\",\"Famindalan\")\n",
        "student2.fullname()\n",
        "\n",
        "class Student(Person):\n",
        "  pass\n",
        "\n",
        "input_fullname = float(input(\"Grade:\"))\n",
        "\n",
        "student1 = Student(\"Jennie\",\"Kim\")\n",
        "student1.fullname()\n",
        "\n",
        "class Student(Person):\n",
        "  pass\n",
        "\n",
        "input_fullname = float(input(\"Grade:\"))"
      ],
      "metadata": {
        "colab": {
          "base_uri": "https://localhost:8080/"
        },
        "id": "gVkXI7pks25U",
        "outputId": "f9d0622e-3de1-434b-f781-9f7f2c6bc04d"
      },
      "execution_count": 80,
      "outputs": [
        {
          "name": "stdout",
          "output_type": "stream",
          "text": [
            "Michael Colcol\n",
            "Grade:99\n",
            "Abish Famindalan\n",
            "Grade:99\n",
            "Jennie Kim\n",
            "Grade:98\n"
          ]
        }
      ]
    },
    {
      "cell_type": "code",
      "source": [
        "\n",
        "class Average:\n",
        "  def __init__(self,firstname,lastname):\n",
        "    self.__firstname = firstname\n",
        "    self.__lastname = lastname\n",
        "\n",
        "  def Score(self):\n",
        "    print(self.__firstname,self.__lastname)\n",
        "\n",
        "  def Grade(self):\n",
        "    return(self.__a + self.__b + self.__c)\n",
        "\n",
        "student1 = Student(\"Michael\",\"Colcol\") \n",
        "student1.fullname()\n",
        "\n",
        "a = int(input(\"Prelims:\"))\n",
        "b = int(input(\"Midterm:\"))\n",
        "c = int(input(\"Finals:\"))\n",
        "input_average = (a + b + c)/3\n",
        "print(\"Average\",input_average)\n",
        " \n",
        "student2 =Student(\"Abish\",\"Famindalan\") \n",
        "student2.fullname()\n",
        "\n",
        "a = int(input(\"Prelims:\"))\n",
        "b = int(input(\"Midterm:\"))\n",
        "c = int(input(\"Finals:\"))\n",
        "input_average = (a + b + c)/3\n",
        "print(\"Average\",input_average)\n",
        " \n",
        "student3 =Student(\"Jennie\",\"Kim\") \n",
        "student3.fullname()\n",
        "\n",
        "a = int(input(\"Prelims:\"))\n",
        "b = int(input(\"Midterm:\"))\n",
        "c = int(input(\"Finals:\"))\n",
        "input_average = (a + b + c)/3\n",
        "print(\"Average\",input_average)\n",
        "\n"
      ],
      "metadata": {
        "colab": {
          "base_uri": "https://localhost:8080/"
        },
        "id": "UlMYdqQ_TcWv",
        "outputId": "534b0291-d21e-41ac-8c54-5f0860f57213"
      },
      "execution_count": 82,
      "outputs": [
        {
          "output_type": "stream",
          "name": "stdout",
          "text": [
            "Michael Colcol\n",
            "Prelims:99\n",
            "Midterm:99\n",
            "Finals:99\n",
            "Average 99.0\n",
            "Abish Famindalan\n",
            "Prelims:99\n",
            "Midterm:99\n",
            "Finals:99\n",
            "Average 99.0\n",
            "Jennie Kim\n",
            "Prelims:95\n",
            "Midterm:96\n",
            "Finals:99\n",
            "Average 96.66666666666667\n"
          ]
        }
      ]
    }
  ]
}