{
  "nbformat": 4,
  "nbformat_minor": 0,
  "metadata": {
    "colab": {
      "name": "OOP_Concepts_2..ipynb",
      "provenance": [],
      "authorship_tag": "ABX9TyN0Fhcx41FDDGrYieFjx4Si",
      "include_colab_link": true
    },
    "kernelspec": {
      "name": "python3",
      "display_name": "Python 3"
    },
    "language_info": {
      "name": "python"
    }
  },
  "cells": [
    {
      "cell_type": "markdown",
      "metadata": {
        "id": "view-in-github",
        "colab_type": "text"
      },
      "source": [
        "<a href=\"https://colab.research.google.com/github/MichaelColcol/OOP-1-1/blob/main/OOP_Concepts_2_.ipynb\" target=\"_parent\"><img src=\"https://colab.research.google.com/assets/colab-badge.svg\" alt=\"Open In Colab\"/></a>"
      ]
    },
    {
      "cell_type": "markdown",
      "source": [
        "Classes with multiple objects\n",
        "\n"
      ],
      "metadata": {
        "id": "pNtxKZp-c7Zc"
      }
    },
    {
      "cell_type": "code",
      "execution_count": null,
      "metadata": {
        "colab": {
          "base_uri": "https://localhost:8080/"
        },
        "id": "BhUtM5WKc4KC",
        "outputId": "ca34155e-4c26-4cb2-8e81-91e7c857f164"
      },
      "outputs": [
        {
          "output_type": "stream",
          "name": "stdout",
          "text": [
            "Griffor Vultureflies above the sky\n",
            "Common Craneflies above the sky\n",
            "Emu is the national bird of Australia\n"
          ]
        }
      ],
      "source": [
        "class Birds:\n",
        "  def __init__(self,birds_name):\n",
        "    self.birds_name = birds_name\n",
        "  def flying_birds(self):\n",
        "    print(f\"{self.birds_name}flies above the sky\")\n",
        "  def non_flying_birds(self):\n",
        "    print(f\"{self.birds_name} is the national bird of Australia\")\n",
        "\n",
        "vulture = Birds(\"Griffor Vulture\")\n",
        "crane = Birds(\"Common Crane\")\n",
        "emu = Birds(\"Emu\")\n",
        "\n",
        "vulture.flying_birds()\n",
        "crane.flying_birds()\n",
        "emu.non_flying_birds()"
      ]
    },
    {
      "cell_type": "markdown",
      "source": [
        "Encapsulation"
      ],
      "metadata": {
        "id": "HJE5J_MTdFJL"
      }
    },
    {
      "cell_type": "code",
      "source": [
        "class foo:\n",
        "  def __init__(self,a,b):\n",
        "    self.a = a\n",
        "    self.b = b\n",
        "\n",
        "  def add(self):\n",
        "    return self.a + self.b\n",
        "  \n",
        "object_foo = foo(3,4)\n",
        "object_foo.add()\n",
        "\n",
        "object_foo.a = 6\n",
        "object_foo.add()"
      ],
      "metadata": {
        "colab": {
          "base_uri": "https://localhost:8080/"
        },
        "id": "Lsb3j2UgdExE",
        "outputId": "340f2084-f558-4cb4-eb53-0504abe9ef91"
      },
      "execution_count": null,
      "outputs": [
        {
          "output_type": "execute_result",
          "data": {
            "text/plain": [
              "10"
            ]
          },
          "metadata": {},
          "execution_count": 2
        }
      ]
    },
    {
      "cell_type": "markdown",
      "source": [
        "Encapsulation (mangling with double underscore)\n",
        "\n"
      ],
      "metadata": {
        "id": "9La4m22AdKAK"
      }
    },
    {
      "cell_type": "code",
      "source": [
        "class foo:\n",
        "  def __init__(self,a,b):\n",
        "    self.__a = a\n",
        "    self.__b = b\n",
        "\n",
        "  def add(self):\n",
        "    return self.__a + self.__b\n",
        "  \n",
        "object_foo = foo(3,4)\n",
        "object_foo.add()\n",
        "\n",
        "object_foo.__a = 6\n",
        "object_foo.add()"
      ],
      "metadata": {
        "colab": {
          "base_uri": "https://localhost:8080/"
        },
        "id": "ttfa_KaBdMIT",
        "outputId": "951fad32-be30-42b4-8c6f-e2a23323b80d"
      },
      "execution_count": null,
      "outputs": [
        {
          "output_type": "execute_result",
          "data": {
            "text/plain": [
              "7"
            ]
          },
          "metadata": {},
          "execution_count": 3
        }
      ]
    },
    {
      "cell_type": "code",
      "source": [
        "class Counter:\n",
        "  def __init__(self):\n",
        "    self.current = 0\n",
        "\n",
        "  def increment(self):\n",
        "    self.current +=1\n",
        "\n",
        "  def value(self):\n",
        "    return self.current\n",
        "\n",
        "  def reset(self):\n",
        "    self.current = 0\n",
        "\n",
        "counter = Counter()\n",
        "\n",
        "counter.increment()\n",
        "counter.increment()\n",
        "counter.increment()\n",
        "\n",
        "print(counter.value())"
      ],
      "metadata": {
        "colab": {
          "base_uri": "https://localhost:8080/"
        },
        "id": "o-c0aLxqdQQ6",
        "outputId": "8d0b5dca-a15f-41cb-8fc8-b7213a42990e"
      },
      "execution_count": null,
      "outputs": [
        {
          "output_type": "stream",
          "name": "stdout",
          "text": [
            "3\n"
          ]
        }
      ]
    },
    {
      "cell_type": "code",
      "source": [
        "class Counter:\n",
        "  def __init__(self):\n",
        "    self.current = 0\n",
        "  def increment(self):\n",
        "    self.current +=1\n",
        "  def value(self):\n",
        "    return self.current\n",
        "  def reset(self):\n",
        "    self.current= 0\n",
        "\n",
        "number = Counter()\n",
        "number.increment()\n",
        "number.increment()\n",
        "number.increment()\n",
        "\n",
        "print(number.value())"
      ],
      "metadata": {
        "colab": {
          "base_uri": "https://localhost:8080/"
        },
        "id": "8h6Osw66dSJ6",
        "outputId": "30efc8b6-3794-4c75-91e6-f729faec45b0"
      },
      "execution_count": null,
      "outputs": [
        {
          "output_type": "stream",
          "name": "stdout",
          "text": [
            "3\n"
          ]
        }
      ]
    },
    {
      "cell_type": "code",
      "source": [
        "class Counter:\n",
        "  def __init__(self):\n",
        "    self.__current = 0\n",
        "  def increment(self):\n",
        "    self.__current +=1\n",
        "  def value(self):\n",
        "    return self.__current\n",
        "  def reset(self):\n",
        "    self.__current= 0\n",
        "\n",
        "number = Counter()\n",
        "number.current = 1\n",
        "\n",
        "number.increment()\n",
        "number.increment()\n",
        "number.increment()\n",
        "\n",
        "\n",
        "print(number.value())"
      ],
      "metadata": {
        "colab": {
          "base_uri": "https://localhost:8080/"
        },
        "id": "v6I7ZCYHdbFK",
        "outputId": "3ed9c62b-971c-4b10-fa11-59d0a81bb5de"
      },
      "execution_count": null,
      "outputs": [
        {
          "output_type": "stream",
          "name": "stdout",
          "text": [
            "3\n"
          ]
        }
      ]
    },
    {
      "cell_type": "markdown",
      "source": [
        "Inheritance"
      ],
      "metadata": {
        "id": "TPUL_flWddAI"
      }
    },
    {
      "cell_type": "code",
      "source": [
        "class Person:\n",
        "  def __init__(self,firstname,surname):\n",
        "    self.firstname = firstname\n",
        "    self.surname = surname\n",
        "\n",
        "  def fullname(self):\n",
        "    print(self.firstname,self.surname)\n",
        "\n",
        "person =Person(\"Michael\",\"Colcol\")\n",
        "person.fullname()\n",
        "\n",
        "class Student(Person):\n",
        "  pass\n",
        "\n",
        "person2 = Student(\"Mikey\",\"Colcol\")\n",
        "person2.fullname()\n",
        "\n",
        "class Student(Person):\n",
        "  pass\n",
        "\n",
        "person3 = Student(\"Abish\",\"Famindalan\")\n",
        "person3.fullname()"
      ],
      "metadata": {
        "colab": {
          "base_uri": "https://localhost:8080/"
        },
        "id": "-KTj3mlrdeVa",
        "outputId": "9e7d114d-fcf8-4581-df98-bc908c4201c2"
      },
      "execution_count": null,
      "outputs": [
        {
          "output_type": "stream",
          "name": "stdout",
          "text": [
            "Michael Colcol\n",
            "Mikey Colcol\n",
            "Abish Famindalan\n"
          ]
        }
      ]
    },
    {
      "cell_type": "markdown",
      "source": [
        "Polymorphism"
      ],
      "metadata": {
        "id": "8bKM6M44dhqb"
      }
    },
    {
      "cell_type": "code",
      "source": [
        "class RegularPolygon:\n",
        "    def __init__(self,side):\n",
        "        self.side = side\n",
        "class Square(RegularPolygon):\n",
        "    def area(self):\n",
        "        return self.side * self.side\n",
        "class EquilateralTriangle(RegularPolygon):\n",
        "    def area(self):\n",
        "        return self.side * self.side * 0.433\n",
        "\n",
        "obj1 = Square(4)\n",
        "print(obj1.area())\n",
        "\n",
        "obj2 = EquilateralTriangle(3)\n",
        "print(obj2.area())"
      ],
      "metadata": {
        "colab": {
          "base_uri": "https://localhost:8080/"
        },
        "id": "iJ7YcLSEdiUL",
        "outputId": "94c75e1f-5ea9-41c5-da03-9aadbc8438d4"
      },
      "execution_count": null,
      "outputs": [
        {
          "output_type": "stream",
          "name": "stdout",
          "text": [
            "16\n",
            "3.897\n"
          ]
        }
      ]
    },
    {
      "cell_type": "markdown",
      "source": [
        "##Application 1\n",
        "Create a Python program that displays the name of three students (Student 1, Student 2, and Student 3) and their term grades Create a class name Person and attributes - std1,std2,std3,pre,mid,fin Compute the average of each term grade using Grade() method Information about student s grades must be hidden from others"
      ],
      "metadata": {
        "id": "13m3g5v4dkvS"
      }
    },
    {
      "cell_type": "code",
      "source": [
        "class Student:\n",
        "  def __init__(self,firstname,lastname):\n",
        "    self.__firstname = firstname\n",
        "    self.__lastname = lastname\n",
        "\n",
        "  def fullname(self):\n",
        "    print(self.__firstname,self.__lastname)\n",
        "\n",
        "  def Grade(self):\n",
        "    return(self.__a + self.__b + self.__c)\n",
        "\n",
        "\n",
        "std1 = Student(\"Michael\",\"Colcol\") \n",
        "std1.fullname()\n",
        "\n",
        "class Student(Person):\n",
        "  pass\n",
        "\n",
        "a = int(input(\"Prelims:\"))\n",
        "b = int(input(\"Midterm:\"))\n",
        "c = int(input(\"Finals:\"))\n",
        "\n",
        "class Average:\n",
        "  def __init__(self,prelim,midterm,final):\n",
        "    self.prelim = prelim\n",
        "    self.midterm = midterm\n",
        "    self.final = final\n",
        "\n",
        "input_average = (a + b + c)/3\n",
        "print(\"Average\",input_average)\n",
        " \n",
        "std2 =Student(\"Abish\",\"Famindalan\") \n",
        "std2.fullname()\n",
        "\n",
        "class Student(Person):\n",
        "  pass\n",
        "\n",
        "a = int(input(\"Prelims:\"))\n",
        "b = int(input(\"Midterm:\"))\n",
        "c = int(input(\"Finals:\"))\n",
        "\n",
        "\n",
        "class Average:\n",
        "  def __init__(self,prelim,midterm,final):\n",
        "    self.prelim = prelim\n",
        "    self.midterm = midterm\n",
        "    self.final = final\n",
        "\n",
        "input_average = (a + b + c)/3\n",
        "print(\"Average\",input_average)\n",
        "\n",
        "std3 =Student(\"Jennie\",\"Kim\") \n",
        "std3.fullname()\n",
        "\n",
        "class Student(Person):\n",
        "  pass\n",
        "\n",
        "a = int(input(\"Prelims:\"))\n",
        "b = int(input(\"Midterm:\"))\n",
        "c = int(input(\"Finals:\"))\n",
        "\n",
        "class Average:\n",
        "  def __init__(self,prelim,midterm,final):\n",
        "    self.prelim = prelim\n",
        "    self.midterm = midterm\n",
        "    self.final = final\n",
        "\n",
        "input_average = (a + b + c)/3\n",
        "print(\"Average\",input_average)"
      ],
      "metadata": {
        "colab": {
          "base_uri": "https://localhost:8080/"
        },
        "id": "0qAUkbLidp1q",
        "outputId": "42a0040d-4328-4596-a5ed-1696742324e4"
      },
      "execution_count": 3,
      "outputs": [
        {
          "output_type": "stream",
          "name": "stdout",
          "text": [
            "Michael Colcol\n",
            "Prelims:99\n",
            "Midterm:99\n",
            "Finals:99\n",
            "Average 99.0\n",
            "Abish Famindalan\n",
            "Prelims:99\n",
            "Midterm:99\n",
            "Finals:100\n",
            "Average 99.33333333333333\n",
            "Jennie Kim\n",
            "Prelims:95\n",
            "Midterm:98\n",
            "Finals:99\n",
            "Average 97.33333333333333\n"
          ]
        }
      ]
    }
  ]
}