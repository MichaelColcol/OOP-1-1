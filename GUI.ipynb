{
  "nbformat": 4,
  "nbformat_minor": 0,
  "metadata": {
    "colab": {
      "name": "GUI.ipynb",
      "provenance": [],
      "authorship_tag": "ABX9TyPxkWORaoV9ppT2xxwE2EBW",
      "include_colab_link": true
    },
    "kernelspec": {
      "name": "python3",
      "display_name": "Python 3"
    },
    "language_info": {
      "name": "python"
    }
  },
  "cells": [
    {
      "cell_type": "markdown",
      "metadata": {
        "id": "view-in-github",
        "colab_type": "text"
      },
      "source": [
        "<a href=\"https://colab.research.google.com/github/MichaelColcol/OOP-1-1/blob/main/GUI.ipynb\" target=\"_parent\"><img src=\"https://colab.research.google.com/assets/colab-badge.svg\" alt=\"Open In Colab\"/></a>"
      ]
    },
    {
      "cell_type": "markdown",
      "source": [
        "Student Grades in OOP subject"
      ],
      "metadata": {
        "id": "MZGsCU9Zkz-K"
      }
    },
    {
      "cell_type": "code",
      "execution_count": 4,
      "metadata": {
        "colab": {
          "base_uri": "https://localhost:8080/"
        },
        "id": "-SETH1UpYvt5",
        "outputId": "b4426ec6-61dc-4013-b972-d7e6dfd03112"
      },
      "outputs": [
        {
          "output_type": "stream",
          "name": "stdout",
          "text": [
            "Grades of Student: Michael S. Colcol\n",
            "Prelim Grade: 95\n",
            "Midterm Grade: 96\n",
            "Final Grade: 97\n",
            "Average: 96.0\n"
          ]
        }
      ],
      "source": [
        "#@title Students' Grade in OOP\n",
        "student_name = \"Michael S. Colcol\" #param{type: \"string\"}\n",
        "prelim = 95 #@param{type: \"number\"}\n",
        "midterm = 96 #@param{type: \"number\"}\n",
        "final = 97 #@param{type: \"number\"}\n",
        "semestral_grade = ((prelim + midterm + final)/3)\n",
        "\n",
        "print(\"Grades of Student:\", student_name)\n",
        "print(\"Prelim Grade:\", prelim)\n",
        "print(\"Midterm Grade:\", midterm)\n",
        "print(\"Final Grade:\", final)\n",
        "print(\"Average:\", (round(semestral_grade,2)))"
      ]
    },
    {
      "cell_type": "code",
      "source": [
        "Gender = \"Male\" #@param [\"Male\",\"Female\"] {type:\"raw\"}\n",
        "Birthdate = \"2003-02-20\" #@param {type:\"date\"}\n",
        "\n",
        "print(\"My gender is\", Gender)\n",
        "print(\"My Birthday is\",Birthdate)"
      ],
      "metadata": {
        "colab": {
          "base_uri": "https://localhost:8080/"
        },
        "id": "j1AD4p-vmj1B",
        "outputId": "066aea62-35f5-4251-fdff-1239349d8818"
      },
      "execution_count": 5,
      "outputs": [
        {
          "output_type": "stream",
          "name": "stdout",
          "text": [
            "My gender is Male\n",
            "My Birthday is 2003-02-20\n"
          ]
        }
      ]
    }
  ]
}