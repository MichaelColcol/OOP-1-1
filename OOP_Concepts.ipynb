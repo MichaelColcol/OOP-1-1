{
  "nbformat": 4,
  "nbformat_minor": 0,
  "metadata": {
    "colab": {
      "name": "OOP_Concepts.ipynb",
      "provenance": [],
      "authorship_tag": "ABX9TyPDwX3HtnuSprG4Uw7as0Qi",
      "include_colab_link": true
    },
    "kernelspec": {
      "name": "python3",
      "display_name": "Python 3"
    },
    "language_info": {
      "name": "python"
    }
  },
  "cells": [
    {
      "cell_type": "markdown",
      "metadata": {
        "id": "view-in-github",
        "colab_type": "text"
      },
      "source": [
        "<a href=\"https://colab.research.google.com/github/MichaelColcol/OOP-1-1/blob/main/OOP_Concepts.ipynb\" target=\"_parent\"><img src=\"https://colab.research.google.com/assets/colab-badge.svg\" alt=\"Open In Colab\"/></a>"
      ]
    },
    {
      "cell_type": "markdown",
      "source": [
        "###Python Classes and Objects\n",
        "##Class\n"
      ],
      "metadata": {
        "id": "oP_WavPhpgJO"
      }
    },
    {
      "cell_type": "code",
      "execution_count": 4,
      "metadata": {
        "id": "90YRwogNpWPK"
      },
      "outputs": [],
      "source": [
        "class Myclass:\n",
        "  pass           #create a class without variable and methods"
      ]
    },
    {
      "cell_type": "code",
      "source": [
        "class MyClass:\n",
        "  def __init__(self,name,age):\n",
        "    self.name = name                    #create class with attributes\n",
        "    self.age = age\n",
        "  \n",
        "  def display(self):\n",
        "   print(self.name, self.age)\n",
        "\n",
        "person = MyClass(\"Michael S. Colcol\", 19) #create an object\n",
        "\n",
        "person.display()\n"
      ],
      "metadata": {
        "colab": {
          "base_uri": "https://localhost:8080/"
        },
        "id": "oqc89scKq_e2",
        "outputId": "5bb8ee48-0489-430b-8617-8da8da0ef7e8"
      },
      "execution_count": 16,
      "outputs": [
        {
          "output_type": "stream",
          "name": "stdout",
          "text": [
            "Michael S. Colcol 19\n"
          ]
        }
      ]
    },
    {
      "cell_type": "code",
      "source": [
        "#Application 1 - Write a Python program that computes for an area of rectangle: Area = lxw\n",
        "\n",
        "class Rectangle:\n",
        "   def __init__(self,l,w):\n",
        "     self.l = l\n",
        "     self.w = w\n",
        "\n",
        "     def Area(self):\n",
        "       print(self.l * self.w)\n",
        "\n",
        "       rect = Rectangle(7,3)\n",
        "       rect.Area()\n",
        "\n",
        "\n",
        "\n",
        "\n"
      ],
      "metadata": {
        "id": "EXpXAfJ-sv1v"
      },
      "execution_count": 42,
      "outputs": []
    }
  ]
}