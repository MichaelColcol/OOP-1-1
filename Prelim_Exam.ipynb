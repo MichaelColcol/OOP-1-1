{
  "nbformat": 4,
  "nbformat_minor": 0,
  "metadata": {
    "colab": {
      "name": "Prelim Exam.ipynb",
      "provenance": [],
      "authorship_tag": "ABX9TyMY3LKW6zr9RKs8Q8z2xgT5",
      "include_colab_link": true
    },
    "kernelspec": {
      "name": "python3",
      "display_name": "Python 3"
    },
    "language_info": {
      "name": "python"
    }
  },
  "cells": [
    {
      "cell_type": "markdown",
      "metadata": {
        "id": "view-in-github",
        "colab_type": "text"
      },
      "source": [
        "<a href=\"https://colab.research.google.com/github/MichaelColcol/OOP-1-1/blob/main/Prelim_Exam.ipynb\" target=\"_parent\"><img src=\"https://colab.research.google.com/assets/colab-badge.svg\" alt=\"Open In Colab\"/></a>"
      ]
    },
    {
      "cell_type": "code",
      "execution_count": 14,
      "metadata": {
        "colab": {
          "base_uri": "https://localhost:8080/"
        },
        "id": "SebUQI4JF7na",
        "outputId": "0ef3f298-4a14-448c-b66e-fbef4d542a75"
      },
      "outputs": [
        {
          "output_type": "stream",
          "name": "stdout",
          "text": [
            "Fullname: Michael Colcol\n",
            "Student_number: 202101789\n",
            "My Age: 19\n",
            "My School: Cavite State University\n",
            "My Course: BS Computer Engineering(BSCPE)\n"
          ]
        }
      ],
      "source": [
        "class Student:\n",
        "  def __init__(self,fullname,student_number,age,school,course):\n",
        "    self.fullname = fullname\n",
        "    self.student_number = student_number\n",
        "    self.age = age\n",
        "    self.school = school\n",
        "    self.course = course\n",
        "\n",
        "  def info(self):\n",
        "    print(\"Fullname:\",self.fullname)\n",
        "    print(\"Student_number:\",self.student_number)\n",
        "    print(\"My Age:\",self.age)\n",
        "    print(\"My School:\",self.school)\n",
        "    print(\"My Course:\",self.course)\n",
        "\n",
        "myself = Student(\"Michael Colcol\", \"202101789\", \"19\",\"Cavite State University\",\"BS Computer Engineering(BSCPE)\")\n",
        "myself.info()\n",
        " "
      ]
    }
  ]
}