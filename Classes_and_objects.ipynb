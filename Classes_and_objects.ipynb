{
  "nbformat": 4,
  "nbformat_minor": 0,
  "metadata": {
    "colab": {
      "name": "Classes and objects.ipynb",
      "provenance": [],
      "authorship_tag": "ABX9TyNXW+LHQOXcljNsdrZWgFgG",
      "include_colab_link": true
    },
    "kernelspec": {
      "name": "python3",
      "display_name": "Python 3"
    },
    "language_info": {
      "name": "python"
    }
  },
  "cells": [
    {
      "cell_type": "markdown",
      "metadata": {
        "id": "view-in-github",
        "colab_type": "text"
      },
      "source": [
        "<a href=\"https://colab.research.google.com/github/MichaelColcol/OOP-1-1/blob/main/Classes_and_objects.ipynb\" target=\"_parent\"><img src=\"https://colab.research.google.com/assets/colab-badge.svg\" alt=\"Open In Colab\"/></a>"
      ]
    },
    {
      "cell_type": "markdown",
      "source": [
        "Application 2 - Write a python program that displays the fullname of a student,student number,age,course,school. Crea a class name OOP_1_1 and create info() menthod to display the information of a student with fullname,student_no,age,course,school as attributes"
      ],
      "metadata": {
        "id": "4-DHWWFH1nrE"
      }
    },
    {
      "cell_type": "code",
      "source": [
        "class OOP_1_1:\n",
        "  def __init__(self,fullname,student_no,age,course,school):\n",
        "    self.fullname = fullname\n",
        "    self.student_no = student_no\n",
        "    self.age = age\n",
        "    self.course = course\n",
        "    self.school = school\n",
        "\n",
        "  def info(self):\n",
        "    print(self.fullname,self.student_no,self.age,self.course,self.school)\n",
        "\n",
        "student = OOP_1_1(\"Michael S.Colcol\",202101789,19,\"BSCPE\",\"CVSU\")\n",
        "student.info()"
      ],
      "metadata": {
        "colab": {
          "base_uri": "https://localhost:8080/"
        },
        "id": "BMhd2si7245c",
        "outputId": "e3dc57a4-0a29-45c9-9e39-f4dfee5a8202"
      },
      "execution_count": null,
      "outputs": [
        {
          "output_type": "stream",
          "name": "stdout",
          "text": [
            "Michael S.Colcol 202101789 19 BSCPE CVSU\n"
          ]
        }
      ]
    },
    {
      "cell_type": "code",
      "source": [
        "class OOP_1_1:\n",
        "  def __init__(self,fullname,student_no,age,course,school):\n",
        "    self.fullname = fullname\n",
        "    self.student_no = student_no\n",
        "    self.age = age\n",
        "    self.course = course\n",
        "    self.school = school\n",
        "\n",
        "  def info(self):\n",
        "    #print(\"My name is\" + self.name,self.student,self.age,self.course,self.school)\n",
        "    print(\"My name\",self.fullname)\n",
        "    print(\"My Student Number is\", self.student_no)\n",
        "    print(\"My age is\", self.age)\n",
        "    print(\"My course is\", self.course)\n",
        "    print(\"My school is\", self.school)\n",
        "          \n",
        "\n",
        "student = OOP_1_1(\"Michael S.Colcol\",202101789,19,\"BSCPE\",\"CVSU\")\n",
        "student.info()"
      ],
      "metadata": {
        "colab": {
          "base_uri": "https://localhost:8080/"
        },
        "id": "qmdT0OCd54CV",
        "outputId": "0f3ea706-a1af-411c-8b63-83c9e1c3f65d"
      },
      "execution_count": null,
      "outputs": [
        {
          "output_type": "stream",
          "name": "stdout",
          "text": [
            "My name Michael S.Colcol\n",
            "My Student Number is 202101789\n",
            "My age is 19\n",
            "My course is BSCPE\n",
            "My school is CVSU\n"
          ]
        }
      ]
    }
  ]
}